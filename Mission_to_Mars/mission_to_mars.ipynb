{
 "cells": [
  {
   "cell_type": "code",
   "execution_count": 9,
   "id": "harmful-newfoundland",
   "metadata": {},
   "outputs": [],
   "source": [
    "# Dependencies\n",
    "import os\n",
    "from bs4 import BeautifulSoup as bs\n",
    "import pymongo\n",
    "from splinter import Browser\n",
    "import requests\n",
    "import time\n",
    "from flask import Flask, render_template, redirect\n",
    "from flask_pymongo import PyMongo\n",
    "from webdriver_manager.chrome import ChromeDriverManager"
   ]
  },
  {
   "cell_type": "code",
   "execution_count": 10,
   "id": "hearing-field",
   "metadata": {},
   "outputs": [
    {
     "name": "stderr",
     "output_type": "stream",
     "text": [
      "[WDM] - ====== WebDriver manager ======\n",
      "[WDM] - Current google-chrome version is 89.0.4389\n",
      "[WDM] - Get LATEST driver version for 89.0.4389\n"
     ]
    },
    {
     "name": "stdout",
     "output_type": "stream",
     "text": [
      "\n",
      "\n"
     ]
    },
    {
     "name": "stderr",
     "output_type": "stream",
     "text": [
      "[WDM] - Driver [/Users/katiehartmann/.wdm/drivers/chromedriver/mac64/89.0.4389.23/chromedriver] found in cache\n"
     ]
    }
   ],
   "source": [
    "# Setup splinter\n",
    "executable_path = {'executable_path': ChromeDriverManager().install()}\n",
    "browser = Browser('chrome', **executable_path, headless=False)"
   ]
  },
  {
   "cell_type": "markdown",
   "id": "absolute-boating",
   "metadata": {},
   "source": [
    "## Mars News"
   ]
  },
  {
   "cell_type": "code",
   "execution_count": 3,
   "id": "rental-suite",
   "metadata": {},
   "outputs": [],
   "source": [
    "# read HTML from website\n",
    "url = \"https://mars.nasa.gov/news/\"\n",
    "browser.visit(url)"
   ]
  },
  {
   "cell_type": "code",
   "execution_count": 4,
   "id": "crazy-governor",
   "metadata": {},
   "outputs": [],
   "source": [
    "# Create a Beautiful Soup object\n",
    "html = browser.html\n",
    "soup = bs(html, 'html.parser')\n",
    "# soup"
   ]
  },
  {
   "cell_type": "code",
   "execution_count": 5,
   "id": "lightweight-rainbow",
   "metadata": {},
   "outputs": [
    {
     "data": {
      "text/plain": [
       "'Another First: Perseverance Captures the Sounds of Driving on Mars'"
      ]
     },
     "execution_count": 5,
     "metadata": {},
     "output_type": "execute_result"
    }
   ],
   "source": [
    "# Retrieve latest news title and paragraph\n",
    "title = soup.find_all('div', class_=\"content_title\")[1].text\n",
    "title"
   ]
  },
  {
   "cell_type": "code",
   "execution_count": 6,
   "id": "adjustable-samuel",
   "metadata": {},
   "outputs": [
    {
     "data": {
      "text/plain": [
       "'NASA’s newest rover recorded audio of itself crunching over the surface of the Red Planet, adding a whole new dimension to Mars exploration.'"
      ]
     },
     "execution_count": 6,
     "metadata": {},
     "output_type": "execute_result"
    }
   ],
   "source": [
    "paragraph = soup.find_all('div', class_=\"article_teaser_body\")[0].text\n",
    "paragraph"
   ]
  },
  {
   "cell_type": "code",
   "execution_count": 7,
   "id": "comfortable-republican",
   "metadata": {},
   "outputs": [],
   "source": [
    "# Run only if ready to quit browser completely\n",
    "browser.quit()"
   ]
  },
  {
   "cell_type": "markdown",
   "id": "chubby-pulse",
   "metadata": {},
   "source": [
    "## JPL Mars Space Images - Featured Image"
   ]
  },
  {
   "cell_type": "code",
   "execution_count": 11,
   "id": "sought-catch",
   "metadata": {},
   "outputs": [],
   "source": [
    "# read html from website\n",
    "jpl_image_url = 'https://data-class-jpl-space.s3.amazonaws.com/JPL_Space/index.html'\n",
    "featured_url = 'https://data-class-jpl-space.s3.amazonaws.com/JPL_Space/'\n",
    "browser.visit(jpl_image_url)"
   ]
  },
  {
   "cell_type": "code",
   "execution_count": 12,
   "id": "requested-saying",
   "metadata": {},
   "outputs": [],
   "source": [
    "# Create a Beautiful Soup object\n",
    "html = browser.html\n",
    "soup = bs(html, 'html.parser')"
   ]
  },
  {
   "cell_type": "code",
   "execution_count": 13,
   "id": "understanding-april",
   "metadata": {},
   "outputs": [
    {
     "name": "stdout",
     "output_type": "stream",
     "text": [
      "https://data-class-jpl-space.s3.amazonaws.com/JPL_Space/image/featured/mars1.jpg\n"
     ]
    }
   ],
   "source": [
    "# retrieve image url\n",
    "image_url = soup.find_all('img')[1]['src']\n",
    "featured_image_url = featured_url + image_url\n",
    "print(featured_image_url)"
   ]
  },
  {
   "cell_type": "code",
   "execution_count": null,
   "id": "offshore-organic",
   "metadata": {},
   "outputs": [],
   "source": [
    "# Run only if ready to quit browser completely\n",
    "browser.quit()"
   ]
  },
  {
   "cell_type": "markdown",
   "id": "ethical-hawaii",
   "metadata": {},
   "source": [
    "## Mars Facts"
   ]
  },
  {
   "cell_type": "code",
   "execution_count": 14,
   "id": "thick-colorado",
   "metadata": {},
   "outputs": [],
   "source": [
    "# read html from website\n",
    "facts_url = \"https://space-facts.com/mars/\"\n",
    "browser.visit(facts_url)\n",
    "\n",
    "# time.sleep(5)\n",
    "\n",
    "# create a Beautfiul Soup object\n",
    "html = browser.html\n",
    "soup = bs(html, 'html.parser')"
   ]
  },
  {
   "cell_type": "code",
   "execution_count": 15,
   "id": "reasonable-potter",
   "metadata": {},
   "outputs": [],
   "source": [
    "mars_facts=soup.find_all('tr')"
   ]
  },
  {
   "cell_type": "code",
   "execution_count": 16,
   "id": "numeric-massage",
   "metadata": {},
   "outputs": [
    {
     "name": "stdout",
     "output_type": "stream",
     "text": [
      "Equatorial Diameter:\n",
      "6,792 km\n",
      "Polar Diameter:\n",
      "6,752 km\n",
      "Mass:\n",
      "6.39 × 10^23 kg (0.11 Earths)\n",
      "Moons:\n",
      "2 (Phobos & Deimos)\n",
      "Orbit Distance:\n",
      "227,943,824 km (1.38 AU)\n",
      "Orbit Period:\n",
      "687 days (1.9 years)\n",
      "Surface Temperature: \n",
      "-87 to -5 °C\n",
      "First Record:\n",
      "2nd millennium BC\n",
      "Recorded By:\n",
      "Egyptian astronomers\n"
     ]
    }
   ],
   "source": [
    "# loop through fact table\n",
    "mars_facts_table = []\n",
    "count = 0\n",
    "for fact in mars_facts:\n",
    "    \n",
    "    if count == 9:\n",
    "        break\n",
    "        \n",
    "    try:\n",
    "        column = fact.find('td', class_=\"column-1\").text\n",
    "        print(column)\n",
    "        value = fact.find('td', class_=\"column-2\").text\n",
    "        print(value)\n",
    "        \n",
    "        # Create a dictionary\n",
    "        table_dict = {\n",
    "            \"column1\": column,\n",
    "            \"column2\": value\n",
    "        }\n",
    "        mars_facts_table.append(table_dict)\n",
    "        \n",
    "    except Exception as e:\n",
    "        print(e)\n",
    "        \n",
    "    count = count + 1"
   ]
  },
  {
   "cell_type": "code",
   "execution_count": 17,
   "id": "statewide-progress",
   "metadata": {},
   "outputs": [
    {
     "data": {
      "text/plain": [
       "[{'column1': 'Equatorial Diameter:', 'column2': '6,792 km'},\n",
       " {'column1': 'Polar Diameter:', 'column2': '6,752 km'},\n",
       " {'column1': 'Mass:', 'column2': '6.39 × 10^23 kg (0.11 Earths)'},\n",
       " {'column1': 'Moons:', 'column2': '2 (Phobos & Deimos)'},\n",
       " {'column1': 'Orbit Distance:', 'column2': '227,943,824 km (1.38 AU)'},\n",
       " {'column1': 'Orbit Period:', 'column2': '687 days (1.9 years)'},\n",
       " {'column1': 'Surface Temperature: ', 'column2': '-87 to -5 °C'},\n",
       " {'column1': 'First Record:', 'column2': '2nd millennium BC'},\n",
       " {'column1': 'Recorded By:', 'column2': 'Egyptian astronomers'}]"
      ]
     },
     "execution_count": 17,
     "metadata": {},
     "output_type": "execute_result"
    }
   ],
   "source": [
    "mars_facts_table"
   ]
  },
  {
   "cell_type": "code",
   "execution_count": null,
   "id": "iraqi-salad",
   "metadata": {},
   "outputs": [],
   "source": [
    "# Run only if ready to quit browser completely\n",
    "browser.quit()"
   ]
  },
  {
   "cell_type": "markdown",
   "id": "caroline-appeal",
   "metadata": {},
   "source": [
    "## Mars Hemispheres"
   ]
  },
  {
   "cell_type": "code",
   "execution_count": 18,
   "id": "smaller-pharmaceutical",
   "metadata": {},
   "outputs": [],
   "source": [
    "# scrape for images and titles\n",
    "hemisphere_url = \"https://astrogeology.usgs.gov/search/results?q=hemisphere+enhanced&k1=target&v1=Mars\"\n",
    "usgs_url = \"https://astrogeology.usgs.gov\"\n",
    "browser.visit(hemisphere_url)\n",
    "html = browser.html\n",
    "soup=bs(html,'html.parser')"
   ]
  },
  {
   "cell_type": "code",
   "execution_count": 19,
   "id": "czech-examination",
   "metadata": {},
   "outputs": [],
   "source": [
    "# Extract hemispheres item elements\n",
    "mars_hems=soup.find('div',class_='collapsible results')\n",
    "mars_item=mars_hems.find_all('div',class_='item')\n",
    "hemisphere_image_urls=[]"
   ]
  },
  {
   "cell_type": "code",
   "execution_count": 20,
   "id": "interesting-donna",
   "metadata": {},
   "outputs": [
    {
     "name": "stdout",
     "output_type": "stream",
     "text": [
      "Cerberus Hemisphere Enhanced\n",
      "https://astropedia.astrogeology.usgs.gov/download/Mars/Viking/cerberus_enhanced.tif/full.jpg\n",
      "Schiaparelli Hemisphere Enhanced\n",
      "https://astropedia.astrogeology.usgs.gov/download/Mars/Viking/schiaparelli_enhanced.tif/full.jpg\n",
      "Syrtis Major Hemisphere Enhanced\n",
      "https://astropedia.astrogeology.usgs.gov/download/Mars/Viking/syrtis_major_enhanced.tif/full.jpg\n",
      "Valles Marineris Hemisphere Enhanced\n",
      "https://astropedia.astrogeology.usgs.gov/download/Mars/Viking/valles_marineris_enhanced.tif/full.jpg\n"
     ]
    }
   ],
   "source": [
    "# loop through hemisphere images\n",
    "for item in mars_item:\n",
    "    # Error handling\n",
    "    try:\n",
    "        # Extract title\n",
    "        hem=item.find('div',class_='description')\n",
    "        title=hem.h3.text\n",
    "        print(title)\n",
    "        # Extract image url\n",
    "        hem_url=hem.a['href']\n",
    "        browser.visit(usgs_url+hem_url)\n",
    "        html=browser.html\n",
    "        soup=bs(html,'html.parser')\n",
    "        image_src=soup.find('li').a['href']\n",
    "        print(image_src)\n",
    "        # Create dictionary for title and url\n",
    "        hem_dict={\n",
    "            'title':title,\n",
    "            'image_url':image_src\n",
    "        }\n",
    "        hemisphere_image_urls.append(hem_dict)\n",
    "    except Exception as e:\n",
    "        print(e)"
   ]
  },
  {
   "cell_type": "code",
   "execution_count": 21,
   "id": "romance-happiness",
   "metadata": {},
   "outputs": [],
   "source": [
    "# Run only if ready to quit browser completely\n",
    "browser.quit()"
   ]
  }
 ],
 "metadata": {
  "kernelspec": {
   "display_name": "Python 3",
   "language": "python",
   "name": "python3"
  },
  "language_info": {
   "codemirror_mode": {
    "name": "ipython",
    "version": 3
   },
   "file_extension": ".py",
   "mimetype": "text/x-python",
   "name": "python",
   "nbconvert_exporter": "python",
   "pygments_lexer": "ipython3",
   "version": "3.6.10"
  }
 },
 "nbformat": 4,
 "nbformat_minor": 5
}
